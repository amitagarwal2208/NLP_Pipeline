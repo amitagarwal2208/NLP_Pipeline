{
 "cells": [
  {
   "cell_type": "markdown",
   "metadata": {},
   "source": [
    "## Basic NLP pipeline"
   ]
  },
  {
   "cell_type": "markdown",
   "metadata": {},
   "source": [
    "##--> Data Collection\n",
    "##--> Tokenization , stopword , stemming\n",
    "##--> Building a common vocab\n",
    "##--> Vectorising the documents\n",
    "##--> Performing classification/clustering"
   ]
  },
  {
   "cell_type": "markdown",
   "metadata": {},
   "source": [
    "# 1. Data Collection"
   ]
  },
  {
   "cell_type": "code",
   "execution_count": 11,
   "metadata": {},
   "outputs": [],
   "source": [
    "from nltk.corpus import brown"
   ]
  },
  {
   "cell_type": "code",
   "execution_count": 12,
   "metadata": {},
   "outputs": [
    {
     "name": "stdout",
     "output_type": "stream",
     "text": [
      "['adventure', 'belles_lettres', 'editorial', 'fiction', 'government', 'hobbies', 'humor', 'learned', 'lore', 'mystery', 'news', 'religion', 'reviews', 'romance', 'science_fiction']\n"
     ]
    }
   ],
   "source": [
    "print(brown.categories())"
   ]
  },
  {
   "cell_type": "code",
   "execution_count": 13,
   "metadata": {},
   "outputs": [],
   "source": [
    "data = brown.sents(categories='editorial')"
   ]
  },
  {
   "cell_type": "code",
   "execution_count": 14,
   "metadata": {},
   "outputs": [
    {
     "name": "stdout",
     "output_type": "stream",
     "text": [
      "[['Assembly', 'session', 'brought', 'much', 'good'], ['The', 'General', 'Assembly', ',', 'which', 'adjourns', 'today', ',', 'has', 'performed', 'in', 'an', 'atmosphere', 'of', 'crisis', 'and', 'struggle', 'from', 'the', 'day', 'it', 'convened', '.'], ...]\n"
     ]
    }
   ],
   "source": [
    "print(data)"
   ]
  },
  {
   "cell_type": "code",
   "execution_count": 15,
   "metadata": {},
   "outputs": [
    {
     "name": "stdout",
     "output_type": "stream",
     "text": [
      "['The', 'General', 'Assembly', ',', 'which', 'adjourns', 'today', ',', 'has', 'performed', 'in', 'an', 'atmosphere', 'of', 'crisis', 'and', 'struggle', 'from', 'the', 'day', 'it', 'convened', '.']\n"
     ]
    }
   ],
   "source": [
    "print(data[1])\n",
    "data = data[:100]"
   ]
  },
  {
   "cell_type": "markdown",
   "metadata": {},
   "source": [
    "\n"
   ]
  },
  {
   "cell_type": "markdown",
   "metadata": {},
   "source": [
    "# 2. Tokenization\n",
    "Converting sentences into list of words and removing ambiguities like 'isn't' by converting it into is not."
   ]
  },
  {
   "cell_type": "code",
   "execution_count": 17,
   "metadata": {},
   "outputs": [
    {
     "name": "stdout",
     "output_type": "stream",
     "text": [
      "['The', 'General', 'Assembly', ',', 'which', 'adjourns', 'today', ',', 'has', 'performed', 'in', 'an', 'atmosphere', 'of', 'crisis', 'and', 'struggle', 'from', 'the', 'day', 'it', 'convened', '.']\n"
     ]
    }
   ],
   "source": [
    "text = data[1]\n",
    "print(text)"
   ]
  },
  {
   "cell_type": "code",
   "execution_count": 26,
   "metadata": {},
   "outputs": [
    {
     "name": "stdout",
     "output_type": "stream",
     "text": [
      "It was a very pleasant day , the weather was cool and there were light showers. I went to the market to buy some fruits.\n"
     ]
    }
   ],
   "source": [
    "mytext = \"It was a very pleasant day , the weather was cool and there were light showers. I went to the market to buy some fruits.\"\n",
    "print(mytext)"
   ]
  },
  {
   "cell_type": "code",
   "execution_count": 27,
   "metadata": {},
   "outputs": [],
   "source": [
    "from nltk.tokenize import sent_tokenize,word_tokenize"
   ]
  },
  {
   "cell_type": "code",
   "execution_count": 30,
   "metadata": {},
   "outputs": [
    {
     "name": "stdout",
     "output_type": "stream",
     "text": [
      "['It was a very pleasant day , the weather was cool and there were light showers.', 'I went to the market to buy some fruits.']\n"
     ]
    }
   ],
   "source": [
    "sentences = sent_tokenize(mytext)\n",
    "print(sentences)"
   ]
  },
  {
   "cell_type": "code",
   "execution_count": 48,
   "metadata": {},
   "outputs": [
    {
     "name": "stdout",
     "output_type": "stream",
     "text": [
      "['It', 'was', 'a', 'very', 'pleasant', 'day', ',', 'the', 'weather', 'was', 'cool', 'and', 'there', 'were', 'light', 'showers', '.', 'I', 'went', 'to', 'the', 'market', 'to', 'buy', 'some', 'fruits', '.']\n",
      "27\n"
     ]
    }
   ],
   "source": [
    "wordsList = word_tokenize(mytext)\n",
    "print(wordsList)\n",
    "print(len(wordsList))"
   ]
  },
  {
   "cell_type": "markdown",
   "metadata": {},
   "source": [
    "# 3. Stopwords Removal\n",
    "words like is,and,the,prepositions,articles which are not important and dont tell anything about the gist of sentence. ==> Remove them."
   ]
  },
  {
   "cell_type": "code",
   "execution_count": 41,
   "metadata": {},
   "outputs": [],
   "source": [
    "from nltk.corpus import stopwords"
   ]
  },
  {
   "cell_type": "code",
   "execution_count": 42,
   "metadata": {},
   "outputs": [
    {
     "name": "stdout",
     "output_type": "stream",
     "text": [
      "['i', 'me', 'my', 'myself', 'we']\n"
     ]
    },
    {
     "data": {
      "text/plain": [
       "list"
      ]
     },
     "execution_count": 42,
     "metadata": {},
     "output_type": "execute_result"
    }
   ],
   "source": [
    "sw = stopwords.words('english')\n",
    "print(sw[:5])\n",
    "type(sw)"
   ]
  },
  {
   "cell_type": "code",
   "execution_count": 43,
   "metadata": {},
   "outputs": [
    {
     "name": "stdout",
     "output_type": "stream",
     "text": [
      "{'so', \"wasn't\", 'nor', 'them', 'that', 'aren', 'o', 'herself', 'than', 's', 'if', \"should've\", 'y', \"wouldn't\", 'her', 'isn', 'wouldn', 'this', 'themselves', 'doing', 'above', 'having', 'ma', 'm', 'after', \"isn't\", 'she', \"didn't\", 'ours', 'hasn', 'won', 'being', 'other', 'is', \"aren't\", 'below', 'each', 'why', 'was', 'been', 'its', 'myself', 'again', 'd', 'from', 'most', \"you're\", 'am', \"you'd\", 'under', \"weren't\", 'their', 'hers', 'me', \"she's\", 'no', \"needn't\", 'which', 'at', 'couldn', 'or', 'shan', 'such', 'are', 'now', 'between', 'i', 'had', 't', 'with', 'few', \"you've\", 'my', \"you'll\", 'those', 'once', 'don', 'own', 'does', \"don't\", 'weren', 'same', 'didn', 'there', 'then', \"won't\", 'until', 'against', 'when', 'too', 'have', 'all', \"mustn't\", 'mustn', 'you', 'but', \"couldn't\", 'hadn', 'any', 'whom', 've', 'theirs', 'has', \"hasn't\", 'some', 'in', \"it's\", 'll', 'here', 'it', 'and', 'yours', 'because', 'just', 'these', 'the', 'before', 'shouldn', 'his', 'off', \"shan't\", 'over', 'down', 'doesn', 'mightn', 'yourselves', 'what', 'through', 'him', 'will', \"mightn't\", 'only', 'very', \"hadn't\", 'not', 'itself', \"shouldn't\", 'our', 'wasn', 'up', 'ourselves', 'your', 'by', 'we', 'further', 'an', 'both', \"haven't\", 'be', 'for', 'more', \"doesn't\", 'into', 'as', 'yourself', 'himself', 'a', 'should', 'during', 'how', 'can', 'ain', 'on', 'where', 'of', 'haven', 'he', 'while', 'they', 're', 'to', 'needn', 'who', \"that'll\", 'out', 'were', 'did', 'do', 'about'}\n"
     ]
    }
   ],
   "source": [
    "sw = set(sw)\n",
    "print(sw)"
   ]
  },
  {
   "cell_type": "code",
   "execution_count": 44,
   "metadata": {},
   "outputs": [
    {
     "name": "stdout",
     "output_type": "stream",
     "text": [
      "179\n"
     ]
    }
   ],
   "source": [
    "print(len(sw))"
   ]
  },
  {
   "cell_type": "markdown",
   "metadata": {},
   "source": [
    "# Filter useful words"
   ]
  },
  {
   "cell_type": "code",
   "execution_count": 51,
   "metadata": {},
   "outputs": [
    {
     "name": "stdout",
     "output_type": "stream",
     "text": [
      "['pleasant', 'day', ',', 'weather', 'cool', 'light', 'showers', '.', 'went', 'market', 'buy', 'fruits', '.']\n"
     ]
    }
   ],
   "source": [
    "useful_words = [word.lower() for word in wordsList if word.lower() not in sw]\n",
    "print(useful_words)\n",
    "\n",
    "# Cannot remove dots and commas."
   ]
  },
  {
   "cell_type": "markdown",
   "metadata": {},
   "source": [
    "# Tokenizer using Regular Expression\n",
    "Problem with word tokenizer -> It cannot handle complex tokenizations.\n",
    "\n",
    "Hence Use Regexp Tokenizer class in NLTK"
   ]
  },
  {
   "cell_type": "code",
   "execution_count": 52,
   "metadata": {},
   "outputs": [],
   "source": [
    "from nltk.tokenize import RegexpTokenizer"
   ]
  },
  {
   "cell_type": "code",
   "execution_count": 66,
   "metadata": {},
   "outputs": [],
   "source": [
    "tokenizer = RegexpTokenizer(\"[a-zA-Z@]+\")"
   ]
  },
  {
   "cell_type": "code",
   "execution_count": 67,
   "metadata": {},
   "outputs": [],
   "source": [
    "mytext2 = \"Send all the 50 documents related to clause 1,2,3 to abqc@xyz.com\""
   ]
  },
  {
   "cell_type": "code",
   "execution_count": 68,
   "metadata": {},
   "outputs": [
    {
     "name": "stdout",
     "output_type": "stream",
     "text": [
      "['Send', 'all', 'the', 'documents', 'related', 'to', 'clause', 'to', 'abqc@xyz', 'com']\n"
     ]
    }
   ],
   "source": [
    "print(tokenizer.tokenize(mytext2))"
   ]
  },
  {
   "cell_type": "markdown",
   "metadata": {},
   "source": [
    "\n",
    "## 4. Stemming \n",
    "\n",
    "-Converting all forms of a particular word into root word.\n",
    "\n",
    "-eg.:-> jump , jumps , jumped , jumping is reduced to root word jump.\n",
    "\n",
    "-Stemming reduces the total no. of words in vocab and helps in catching intuition behind sentences better."
   ]
  },
  {
   "cell_type": "code",
   "execution_count": 70,
   "metadata": {},
   "outputs": [],
   "source": [
    "text = \"Foxes love to make jumps.The quick brown fox was seen jumping over a lovely dog from a 6 feet high wall\""
   ]
  },
  {
   "cell_type": "code",
   "execution_count": 74,
   "metadata": {},
   "outputs": [],
   "source": [
    "wordsList = tokenizer.tokenize(text.lower())"
   ]
  },
  {
   "cell_type": "code",
   "execution_count": 75,
   "metadata": {},
   "outputs": [
    {
     "name": "stdout",
     "output_type": "stream",
     "text": [
      "['foxes', 'love', 'to', 'make', 'jumps', 'the', 'quick', 'brown', 'fox', 'was', 'seen', 'jumping', 'over', 'a', 'lovely', 'dog', 'from', 'a', 'feet', 'high', 'wall']\n"
     ]
    }
   ],
   "source": [
    "print(wordsList)"
   ]
  },
  {
   "cell_type": "code",
   "execution_count": 78,
   "metadata": {},
   "outputs": [
    {
     "name": "stdout",
     "output_type": "stream",
     "text": [
      "['foxes', 'love', 'make', 'jumps', 'quick', 'brown', 'fox', 'seen', 'jumping', 'lovely', 'dog', 'feet', 'high', 'wall']\n"
     ]
    }
   ],
   "source": [
    "def filter_words(wordsList):\n",
    "    sw = set(stopwords.words('english'))\n",
    "    return [word for word in wordsList if word not in sw]\n",
    "\n",
    "\n",
    "wordsList = filter_words(wordsList)\n",
    "print(wordsList)"
   ]
  },
  {
   "cell_type": "markdown",
   "metadata": {},
   "source": [
    "## Stemmers :\n",
    "1. Snowball stemmer (support for multilingual languages)\n",
    "2. Porter Stemmer (supports only english)\n",
    "3. Lancaster Stemmer ( only english )"
   ]
  },
  {
   "cell_type": "code",
   "execution_count": 79,
   "metadata": {},
   "outputs": [],
   "source": [
    "from nltk.stem.snowball import PorterStemmer"
   ]
  },
  {
   "cell_type": "code",
   "execution_count": 80,
   "metadata": {},
   "outputs": [],
   "source": [
    "ps = PorterStemmer()"
   ]
  },
  {
   "cell_type": "code",
   "execution_count": 87,
   "metadata": {},
   "outputs": [
    {
     "data": {
      "text/plain": [
       "'jump'"
      ]
     },
     "execution_count": 87,
     "metadata": {},
     "output_type": "execute_result"
    }
   ],
   "source": [
    "ps.stem('jumped')"
   ]
  },
  {
   "cell_type": "code",
   "execution_count": 88,
   "metadata": {},
   "outputs": [
    {
     "data": {
      "text/plain": [
       "'jump'"
      ]
     },
     "execution_count": 88,
     "metadata": {},
     "output_type": "execute_result"
    }
   ],
   "source": [
    "ps.stem('jumping')"
   ]
  },
  {
   "cell_type": "code",
   "execution_count": 89,
   "metadata": {},
   "outputs": [
    {
     "data": {
      "text/plain": [
       "'love'"
      ]
     },
     "execution_count": 89,
     "metadata": {},
     "output_type": "execute_result"
    }
   ],
   "source": [
    "ps.stem('lovely')"
   ]
  },
  {
   "cell_type": "code",
   "execution_count": 90,
   "metadata": {},
   "outputs": [
    {
     "data": {
      "text/plain": [
       "'awesom'"
      ]
     },
     "execution_count": 90,
     "metadata": {},
     "output_type": "execute_result"
    }
   ],
   "source": [
    "ps.stem('awesome')"
   ]
  },
  {
   "cell_type": "code",
   "execution_count": 94,
   "metadata": {},
   "outputs": [
    {
     "name": "stdout",
     "output_type": "stream",
     "text": [
      "['fox', 'love', 'make', 'jump', 'quick', 'brown', 'fox', 'seen', 'jump', 'love', 'dog', 'feet', 'high', 'wall']\n"
     ]
    }
   ],
   "source": [
    "def stem_words_porter(wordsList):\n",
    "    return [ps.stem(word) for word in wordsList]\n",
    "\n",
    "stemmedWordsList = stem_words_porter(wordsList)\n",
    "print(stemmedWordsList)"
   ]
  },
  {
   "cell_type": "code",
   "execution_count": 95,
   "metadata": {},
   "outputs": [],
   "source": [
    "from nltk.stem.lancaster import LancasterStemmer"
   ]
  },
  {
   "cell_type": "code",
   "execution_count": 96,
   "metadata": {},
   "outputs": [],
   "source": [
    "ls = LancasterStemmer()"
   ]
  },
  {
   "cell_type": "code",
   "execution_count": null,
   "metadata": {},
   "outputs": [],
   "source": []
  },
  {
   "cell_type": "code",
   "execution_count": 98,
   "metadata": {},
   "outputs": [
    {
     "data": {
      "text/plain": [
       "'lov'"
      ]
     },
     "execution_count": 98,
     "metadata": {},
     "output_type": "execute_result"
    }
   ],
   "source": [
    "ls.stem('lovable')"
   ]
  },
  {
   "cell_type": "code",
   "execution_count": 184,
   "metadata": {},
   "outputs": [
    {
     "name": "stdout",
     "output_type": "stream",
     "text": [
      "excit\n"
     ]
    }
   ],
   "source": [
    "ls.stem('teeth')\n",
    "print(ls.stem('exciting'))"
   ]
  },
  {
   "cell_type": "code",
   "execution_count": 102,
   "metadata": {},
   "outputs": [
    {
     "name": "stdout",
     "output_type": "stream",
     "text": [
      "teen\n",
      "teenag\n"
     ]
    }
   ],
   "source": [
    "print(ls.stem('teenager'))  # only english\n",
    "print(ps.stem('teenager'))  # only english."
   ]
  },
  {
   "cell_type": "code",
   "execution_count": 104,
   "metadata": {},
   "outputs": [],
   "source": [
    "#Snowball Stemmer\n",
    "\n",
    "from nltk.stem.snowball import SnowballStemmer"
   ]
  },
  {
   "cell_type": "code",
   "execution_count": 109,
   "metadata": {},
   "outputs": [
    {
     "name": "stdout",
     "output_type": "stream",
     "text": [
      "love\n",
      "lovabl\n",
      "teenag\n"
     ]
    }
   ],
   "source": [
    "ss = SnowballStemmer(\"english\")\n",
    "\n",
    "print(ss.stem('lovely'))\n",
    "print(ss.stem('lovable'))\n",
    "print(ss.stem('teenage'))"
   ]
  },
  {
   "cell_type": "code",
   "execution_count": 124,
   "metadata": {},
   "outputs": [
    {
     "ename": "TypeError",
     "evalue": "'SnowballStemmer' object is not callable",
     "output_type": "error",
     "traceback": [
      "\u001b[0;31m---------------------------------------------------------------------------\u001b[0m",
      "\u001b[0;31mTypeError\u001b[0m                                 Traceback (most recent call last)",
      "\u001b[0;32m<ipython-input-124-586bbd03603a>\u001b[0m in \u001b[0;36m<module>\u001b[0;34m()\u001b[0m\n\u001b[0;32m----> 1\u001b[0;31m \u001b[0mwordsList\u001b[0m \u001b[0;34m=\u001b[0m \u001b[0;34m[\u001b[0m\u001b[0mss\u001b[0m\u001b[0;34m(\u001b[0m\u001b[0mword\u001b[0m\u001b[0;34m)\u001b[0m \u001b[0;32mfor\u001b[0m \u001b[0mword\u001b[0m \u001b[0;32min\u001b[0m \u001b[0mwordsList\u001b[0m\u001b[0;34m]\u001b[0m\u001b[0;34m\u001b[0m\u001b[0m\n\u001b[0m\u001b[1;32m      2\u001b[0m \u001b[0mprint\u001b[0m\u001b[0;34m(\u001b[0m\u001b[0mwordsList\u001b[0m\u001b[0;34m)\u001b[0m\u001b[0;34m\u001b[0m\u001b[0m\n",
      "\u001b[0;32m<ipython-input-124-586bbd03603a>\u001b[0m in \u001b[0;36m<listcomp>\u001b[0;34m(.0)\u001b[0m\n\u001b[0;32m----> 1\u001b[0;31m \u001b[0mwordsList\u001b[0m \u001b[0;34m=\u001b[0m \u001b[0;34m[\u001b[0m\u001b[0mss\u001b[0m\u001b[0;34m(\u001b[0m\u001b[0mword\u001b[0m\u001b[0;34m)\u001b[0m \u001b[0;32mfor\u001b[0m \u001b[0mword\u001b[0m \u001b[0;32min\u001b[0m \u001b[0mwordsList\u001b[0m\u001b[0;34m]\u001b[0m\u001b[0;34m\u001b[0m\u001b[0m\n\u001b[0m\u001b[1;32m      2\u001b[0m \u001b[0mprint\u001b[0m\u001b[0;34m(\u001b[0m\u001b[0mwordsList\u001b[0m\u001b[0;34m)\u001b[0m\u001b[0;34m\u001b[0m\u001b[0m\n",
      "\u001b[0;31mTypeError\u001b[0m: 'SnowballStemmer' object is not callable"
     ]
    }
   ],
   "source": []
  },
  {
   "cell_type": "code",
   "execution_count": 110,
   "metadata": {},
   "outputs": [],
   "source": [
    "# Task : Write one function which performs all 3 parts."
   ]
  },
  {
   "cell_type": "code",
   "execution_count": 185,
   "metadata": {},
   "outputs": [],
   "source": [
    "from nltk.tokenize import RegexpTokenizer\n",
    "from nltk.corpus import stopwords\n",
    "from nltk.stem.lancaster import LancasterStemmer \n",
    "from nltk.stem.snowball import SnowballStemmer,PorterStemmer\n",
    "\n",
    "def DataPrep(text):\n",
    "    \n",
    "    # Step 1 : Tokenize\n",
    "    tokenizer = RegexpTokenizer(\"[a-zA-Z@]+\")\n",
    "    wordsList = tokenizer.tokenize(text)\n",
    "    \n",
    "    wordsList = [word.lower() for word in wordsList]\n",
    "    \n",
    "    # Step 2 : Remove Stopwords.\n",
    "    sw = stopwords.words('english')\n",
    "    sw = set(sw)\n",
    "    wordsList = [word for word in wordsList if word not in sw]\n",
    "    \n",
    "    \n",
    "    # Step 3 : Stemming\n",
    "    ss = PorterStemmer()\n",
    "    wordsList = [ss.stem(word) for word in wordsList]\n",
    "    \n",
    "    \n",
    "    return wordsList\n"
   ]
  },
  {
   "cell_type": "code",
   "execution_count": 186,
   "metadata": {},
   "outputs": [],
   "source": [
    "mytext3 = \"Foxes love to make jumps.The quick brown  fox was seen jumping over a lovely dog from a 6 feet high wall\""
   ]
  },
  {
   "cell_type": "code",
   "execution_count": 187,
   "metadata": {},
   "outputs": [
    {
     "name": "stdout",
     "output_type": "stream",
     "text": [
      "['fox', 'love', 'make', 'jump', 'quick', 'brown', 'fox', 'seen', 'jump', 'love', 'dog', 'feet', 'high', 'wall']\n"
     ]
    }
   ],
   "source": [
    "data = DataPrep(mytext3)\n",
    "print(data)"
   ]
  },
  {
   "cell_type": "code",
   "execution_count": 188,
   "metadata": {},
   "outputs": [],
   "source": [
    "from nltk.stem import WordNetLemmatizer"
   ]
  },
  {
   "cell_type": "code",
   "execution_count": 189,
   "metadata": {},
   "outputs": [
    {
     "data": {
      "text/plain": [
       "'cry'"
      ]
     },
     "execution_count": 189,
     "metadata": {},
     "output_type": "execute_result"
    }
   ],
   "source": [
    "l = WordNetLemmatizer()\n",
    "l.lemmatize(\"crying\")"
   ]
  },
  {
   "cell_type": "markdown",
   "metadata": {},
   "source": [
    "## 4. Building Common Vocabulary & vectorizing documents -> BAG OF WORDS MODEL ( Unigram )"
   ]
  },
  {
   "cell_type": "code",
   "execution_count": 190,
   "metadata": {},
   "outputs": [],
   "source": [
    "mycorpus = [\n",
    "    \"Indian men's cricket team will win World Cup , says Capt. Virat Kohli,\",\n",
    "    \"We will win next Lok Sabha elections , says confident Indian PM\" ,\n",
    "    \"The nobel laurate won the hearts of the people\" ,\n",
    "    \"The movie Raazi is an exciting Indian spy thriller based upon a real story\"\n",
    "]"
   ]
  },
  {
   "cell_type": "code",
   "execution_count": 191,
   "metadata": {},
   "outputs": [],
   "source": [
    "from sklearn.feature_extraction.text import CountVectorizer"
   ]
  },
  {
   "cell_type": "code",
   "execution_count": 192,
   "metadata": {},
   "outputs": [],
   "source": [
    "cv = CountVectorizer()"
   ]
  },
  {
   "cell_type": "code",
   "execution_count": 193,
   "metadata": {},
   "outputs": [
    {
     "name": "stdout",
     "output_type": "stream",
     "text": [
      "  (0, 11)\t1\n",
      "  (0, 31)\t1\n",
      "  (0, 2)\t1\n",
      "  (0, 24)\t1\n",
      "  (0, 5)\t1\n",
      "  (0, 36)\t1\n",
      "  (0, 34)\t1\n",
      "  (0, 33)\t1\n",
      "  (0, 27)\t1\n",
      "  (0, 4)\t1\n",
      "  (0, 14)\t1\n",
      "  (0, 9)\t1\n",
      "  (1, 20)\t1\n",
      "  (1, 3)\t1\n",
      "  (1, 6)\t1\n",
      "  (1, 23)\t1\n",
      "  (1, 13)\t1\n",
      "  (1, 16)\t1\n",
      "  (1, 32)\t1\n",
      "  (1, 24)\t1\n",
      "  (1, 34)\t1\n",
      "  (1, 33)\t1\n",
      "  (1, 9)\t1\n",
      "  (2, 19)\t1\n",
      "  (2, 18)\t1\n",
      "  (2, 8)\t1\n",
      "  (2, 35)\t1\n",
      "  (2, 12)\t1\n",
      "  (2, 17)\t1\n",
      "  (2, 28)\t3\n",
      "  (3, 26)\t1\n",
      "  (3, 22)\t1\n",
      "  (3, 30)\t1\n",
      "  (3, 1)\t1\n",
      "  (3, 29)\t1\n",
      "  (3, 25)\t1\n",
      "  (3, 7)\t1\n",
      "  (3, 0)\t1\n",
      "  (3, 10)\t1\n",
      "  (3, 21)\t1\n",
      "  (3, 15)\t1\n",
      "  (3, 28)\t1\n",
      "  (3, 9)\t1\n",
      "\n",
      "\n",
      "[[0 0 1 0 1 1 0 0 0 1 0 1 0 0 1 0 0 0 0 0 0 0 0 0 1 0 0 1 0 0 0 1 0 1 1 0\n",
      "  1]\n",
      " [0 0 0 1 0 0 1 0 0 1 0 0 0 1 0 0 1 0 0 0 1 0 0 1 1 0 0 0 0 0 0 0 1 1 1 0\n",
      "  0]\n",
      " [0 0 0 0 0 0 0 0 1 0 0 0 1 0 0 0 0 1 1 1 0 0 0 0 0 0 0 0 3 0 0 0 0 0 0 1\n",
      "  0]\n",
      " [1 1 0 0 0 0 0 1 0 1 1 0 0 0 0 1 0 0 0 0 0 1 1 0 0 1 1 0 1 1 1 0 0 0 0 0\n",
      "  0]]\n"
     ]
    }
   ],
   "source": [
    "vectorized_corpus = cv.fit_transform(mycorpus)\n",
    "print(vectorized_corpus)\n",
    "print()\n",
    "print()\n",
    "vectorized_corpus = vectorized_corpus.toarray()\n",
    "print(vectorized_corpus)"
   ]
  },
  {
   "cell_type": "code",
   "execution_count": 194,
   "metadata": {},
   "outputs": [
    {
     "name": "stdout",
     "output_type": "stream",
     "text": [
      "{'indian': 9, 'men': 14, 'cricket': 4, 'team': 27, 'will': 33, 'win': 34, 'world': 36, 'cup': 5, 'says': 24, 'capt': 2, 'virat': 31, 'kohli': 11, 'we': 32, 'next': 16, 'lok': 13, 'sabha': 23, 'elections': 6, 'confident': 3, 'pm': 20, 'the': 28, 'nobel': 17, 'laurate': 12, 'won': 35, 'hearts': 8, 'of': 18, 'people': 19, 'movie': 15, 'raazi': 21, 'is': 10, 'an': 0, 'exciting': 7, 'spy': 25, 'thriller': 29, 'based': 1, 'upon': 30, 'real': 22, 'story': 26}\n"
     ]
    }
   ],
   "source": [
    "print(cv.vocabulary_)  ## Dictionary in which word is mapped with index."
   ]
  },
  {
   "cell_type": "markdown",
   "metadata": {},
   "source": [
    "## Given a vector , what is the sentence?"
   ]
  },
  {
   "cell_type": "code",
   "execution_count": 195,
   "metadata": {},
   "outputs": [
    {
     "name": "stdout",
     "output_type": "stream",
     "text": [
      "37\n"
     ]
    }
   ],
   "source": [
    "print(len(vectorized_corpus[0]))\n"
   ]
  },
  {
   "cell_type": "code",
   "execution_count": 196,
   "metadata": {},
   "outputs": [
    {
     "name": "stdout",
     "output_type": "stream",
     "text": [
      "[1. 0. 0. 1. 1. 1. 1. 1. 1. 1. 1. 1. 1. 1. 1. 1. 1. 1. 1. 1. 1. 1. 1. 1.\n",
      " 1. 1. 1. 1. 1. 1. 1. 1. 1. 1. 1. 1. 1.]\n"
     ]
    }
   ],
   "source": [
    "import numpy as np\n",
    "vector = np.ones((37,))\n",
    "vector[1:3] = 0\n",
    "print(vector)"
   ]
  },
  {
   "cell_type": "code",
   "execution_count": 197,
   "metadata": {},
   "outputs": [
    {
     "name": "stdout",
     "output_type": "stream",
     "text": [
      "[array(['an', 'confident', 'cricket', 'cup', 'elections', 'exciting',\n",
      "       'hearts', 'indian', 'is', 'kohli', 'laurate', 'lok', 'men',\n",
      "       'movie', 'next', 'nobel', 'of', 'people', 'pm', 'raazi', 'real',\n",
      "       'sabha', 'says', 'spy', 'story', 'team', 'the', 'thriller', 'upon',\n",
      "       'virat', 'we', 'will', 'win', 'won', 'world'], dtype='<U9')]\n"
     ]
    }
   ],
   "source": [
    "print(cv.inverse_transform(vector))"
   ]
  },
  {
   "cell_type": "code",
   "execution_count": 198,
   "metadata": {},
   "outputs": [
    {
     "data": {
      "text/plain": [
       "1"
      ]
     },
     "execution_count": 198,
     "metadata": {},
     "output_type": "execute_result"
    }
   ],
   "source": [
    "cv.vocabulary_['based']"
   ]
  },
  {
   "cell_type": "code",
   "execution_count": 199,
   "metadata": {},
   "outputs": [
    {
     "data": {
      "text/plain": [
       "34"
      ]
     },
     "execution_count": 199,
     "metadata": {},
     "output_type": "execute_result"
    }
   ],
   "source": [
    "cv.vocabulary_['win']"
   ]
  },
  {
   "cell_type": "code",
   "execution_count": 200,
   "metadata": {},
   "outputs": [],
   "source": [
    "## Effectively reduce size of the vocab vector."
   ]
  },
  {
   "cell_type": "code",
   "execution_count": 201,
   "metadata": {},
   "outputs": [
    {
     "data": {
      "text/plain": [
       "['indian',\n",
       " 'men',\n",
       " 'cricket',\n",
       " 'team',\n",
       " 'win',\n",
       " 'world',\n",
       " 'cup',\n",
       " 'says',\n",
       " 'capt',\n",
       " 'virat',\n",
       " 'kohli']"
      ]
     },
     "execution_count": 201,
     "metadata": {},
     "output_type": "execute_result"
    }
   ],
   "source": [
    "def myTokenizer(sentence):\n",
    "    # Accepts a sentence and returns the words.\n",
    "    \n",
    "    wordsList = tokenizer.tokenize(sentence)\n",
    "    wordsList = [word.lower() for word in wordsList]\n",
    "    return filter_words(wordsList)\n",
    "    \n",
    "    \n",
    "myTokenizer(mycorpus[0])\n",
    "    \n",
    "    \n",
    "    "
   ]
  },
  {
   "cell_type": "code",
   "execution_count": 203,
   "metadata": {},
   "outputs": [
    {
     "name": "stdout",
     "output_type": "stream",
     "text": [
      "[[0 1 0 1 1 0 0 0 1 1 0 0 1 0 0 0 0 0 0 0 0 1 0 0 1 0 0 1 1 1]\n",
      " [0 0 1 0 0 1 0 0 1 0 0 1 0 0 1 0 0 1 0 0 1 1 0 0 0 0 0 0 1 0]\n",
      " [0 0 0 0 0 0 0 1 0 0 1 0 0 0 0 1 1 0 0 0 0 0 0 0 0 0 0 0 0 0]\n",
      " [1 0 0 0 0 0 1 0 1 0 0 0 0 1 0 0 0 0 1 1 0 0 1 1 0 1 1 0 0 0]]\n",
      "\n",
      "\n",
      "30\n",
      "\n",
      "\n",
      "[['indian', 'men', 'cricket', 'team', 'win', 'world', 'cup', 'say', 'capt', 'virat', 'kohli'], ['win', 'next', 'lok', 'sabha', 'elect', 'say', 'confid', 'indian', 'pm'], ['nobel', 'laurat', 'heart', 'peopl'], ['movi', 'raazi', 'excit', 'indian', 'spi', 'thriller', 'base', 'upon', 'real', 'stori']]\n",
      "\n",
      "\n",
      "{'indian': 8, 'men': 12, 'cricket': 3, 'team': 24, 'win': 28, 'world': 29, 'cup': 4, 'say': 21, 'capt': 1, 'virat': 27, 'kohli': 9, 'next': 14, 'lok': 11, 'sabha': 20, 'elect': 5, 'confid': 2, 'pm': 17, 'nobel': 15, 'laurat': 10, 'heart': 7, 'peopl': 16, 'movi': 13, 'raazi': 18, 'excit': 6, 'spi': 22, 'thriller': 25, 'base': 0, 'upon': 26, 'real': 19, 'stori': 23}\n"
     ]
    }
   ],
   "source": [
    "cv = CountVectorizer(tokenizer=DataPrep)\n",
    "vectorized_corpus = cv.fit_transform(mycorpus)\n",
    "vc = vectorized_corpus.toarray()\n",
    "print(vc)\n",
    "print()\n",
    "print()\n",
    "print(len(vc[0]))\n",
    "\n",
    "\n",
    "mywords=[]\n",
    "for sentence in mycorpus:\n",
    "    mywords.append(DataPrep(sentence))\n",
    "    \n",
    "print()\n",
    "print()\n",
    "print(mywords)\n",
    "\n",
    "print()\n",
    "print()\n",
    "print(cv.vocabulary_)"
   ]
  },
  {
   "cell_type": "code",
   "execution_count": 204,
   "metadata": {},
   "outputs": [
    {
     "data": {
      "text/plain": [
       "[array(['capt', 'cricket', 'cup', 'indian', 'kohli', 'men', 'say', 'team',\n",
       "        'virat', 'win', 'world'], dtype='<U8')]"
      ]
     },
     "execution_count": 204,
     "metadata": {},
     "output_type": "execute_result"
    }
   ],
   "source": [
    "tmp = vc[0]\n",
    "cv.inverse_transform(tmp)"
   ]
  },
  {
   "cell_type": "markdown",
   "metadata": {},
   "source": [
    "## Features Bag Of Words model ->\n",
    "\n",
    "# 1. Unigram\n",
    "Focus on the frequency of a single word.\n",
    "\n",
    "# 2. Bigram , Trigrams\n",
    "Clubbing 2/3 words to make more sense.\n",
    "\n",
    "eg: don't like = hate , isn't good = disliked ==> Capture this behaviour\n",
    "\n",
    "# 3. N-gram\n",
    "Clubbing more than 2 words"
   ]
  },
  {
   "cell_type": "code",
   "execution_count": 211,
   "metadata": {},
   "outputs": [
    {
     "name": "stdout",
     "output_type": "stream",
     "text": [
      "[[0 0 0 1 1 1 0 0 0 1 1 1 1 1 1 0 0 0 0 0 0 0 0 1 1 1 0 0 0 1 0 0 0 0 0 0\n",
      "  1 1 1 0 0 0 0 0 0 0 0 0 0 0 0 0 0 0 0 0 0 0 1 1 1 0 0 0 0 0 0 1 1 1 0 0\n",
      "  0 0 0 0 1 1 1 0 0 1 1 1 1 1]\n",
      " [0 0 0 0 0 0 1 1 1 0 0 0 0 0 0 1 1 1 0 0 0 0 0 1 0 0 1 0 0 0 0 0 0 1 1 1\n",
      "  0 0 0 0 0 0 1 1 1 0 0 0 0 1 0 0 0 0 0 1 1 1 1 0 0 1 1 0 0 0 0 0 0 0 0 0\n",
      "  0 0 0 0 0 0 1 1 1 0 0 0 0 0]\n",
      " [0 0 0 0 0 0 0 0 0 0 0 0 0 0 0 0 0 0 0 0 0 1 1 0 0 0 0 0 0 0 1 1 1 0 0 0\n",
      "  0 0 0 0 0 0 0 0 0 1 1 1 1 0 0 0 0 0 0 0 0 0 0 0 0 0 0 0 0 0 0 0 0 0 0 0\n",
      "  0 0 0 0 0 0 0 0 0 0 0 0 0 0]\n",
      " [1 1 1 0 0 0 0 0 0 0 0 0 0 0 0 0 0 0 1 1 1 0 0 1 0 0 0 1 1 0 0 0 0 0 0 0\n",
      "  0 0 0 1 1 1 0 0 0 0 0 0 0 0 1 1 1 1 1 0 0 0 0 0 0 0 0 1 1 1 1 0 0 0 1 1\n",
      "  1 1 1 1 0 0 0 0 0 0 0 0 0 0]]\n",
      "\n",
      "\n",
      "86\n",
      "\n",
      "\n",
      "{'indian': 23, 'men': 36, 'cricket': 9, 'team': 67, 'win': 78, 'world': 83, 'cup': 12, 'says': 58, 'capt': 3, 'virat': 76, 'kohli': 29, 'indian men': 24, 'men cricket': 37, 'cricket team': 10, 'team win': 68, 'win world': 81, 'world cup': 84, 'cup says': 13, 'says capt': 59, 'capt virat': 4, 'virat kohli': 77, 'indian men cricket': 25, 'men cricket team': 38, 'cricket team win': 11, 'team win world': 69, 'win world cup': 82, 'world cup says': 85, 'cup says capt': 14, 'says capt virat': 60, 'capt virat kohli': 5, 'next': 42, 'lok': 33, 'sabha': 55, 'elections': 15, 'confident': 6, 'pm': 49, 'win next': 79, 'next lok': 43, 'lok sabha': 34, 'sabha elections': 56, 'elections says': 16, 'says confident': 61, 'confident indian': 7, 'indian pm': 26, 'win next lok': 80, 'next lok sabha': 44, 'lok sabha elections': 35, 'sabha elections says': 57, 'elections says confident': 17, 'says confident indian': 62, 'confident indian pm': 8, 'nobel': 45, 'laurate': 30, 'hearts': 21, 'people': 48, 'nobel laurate': 46, 'laurate hearts': 31, 'hearts people': 22, 'nobel laurate hearts': 47, 'laurate hearts people': 32, 'movie': 39, 'raazi': 50, 'exciting': 18, 'spy': 63, 'thriller': 70, 'based': 0, 'upon': 73, 'real': 53, 'story': 66, 'movie raazi': 40, 'raazi exciting': 51, 'exciting indian': 19, 'indian spy': 27, 'spy thriller': 64, 'thriller based': 71, 'based upon': 1, 'upon real': 74, 'real story': 54, 'movie raazi exciting': 41, 'raazi exciting indian': 52, 'exciting indian spy': 20, 'indian spy thriller': 28, 'spy thriller based': 65, 'thriller based upon': 72, 'based upon real': 2, 'upon real story': 75}\n"
     ]
    }
   ],
   "source": [
    "cv = CountVectorizer(tokenizer=myTokenizer , ngram_range=(1,3))\n",
    "# (1,1) --> only unigrams\n",
    "# (2,2) --> only bigrams\n",
    "# (1,2) --> both unigrams and bigrams(combination)\n",
    "# (1,3) --> unigram , bigram , trigram\n",
    "\n",
    "vectorized_corpus = cv.fit_transform(mycorpus)\n",
    "vc = vectorized_corpus.toarray()\n",
    "\n",
    "print(vc)\n",
    "print()\n",
    "print()\n",
    "print(len(vc[0]))\n",
    "print()\n",
    "print()\n",
    "print(cv.vocabulary_)"
   ]
  },
  {
   "cell_type": "markdown",
   "metadata": {},
   "source": [
    "## Tf-idf Normalisation \n",
    "- Avoid features that come very often as they contain very less information\n",
    "- Information decreases as no. of occurences increases across DIFFERENT TYPES OF DOCUMENTS.\n",
    "- So , we define other term : term-document-frequency which associates a weight with every term.\n",
    "- Want to give more weights to words which are more specific to that sentence(category)\n",
    "eg : Indian came thrice in the above corpus. But it doesnt tell the genre/gist of the sentence. Basically if indian is written , we cannot guess if its related to cricket , politics or movies. So , it will have less weight."
   ]
  },
  {
   "cell_type": "code",
   "execution_count": 212,
   "metadata": {},
   "outputs": [],
   "source": [
    "# CountVectorizer works only on frequency part. We also need to focus on weighting factor.\n",
    "\n",
    "from sklearn.feature_extraction.text import TfidfVectorizer"
   ]
  },
  {
   "cell_type": "code",
   "execution_count": 218,
   "metadata": {},
   "outputs": [
    {
     "name": "stdout",
     "output_type": "stream",
     "text": [
      "[[0.         0.         0.17238665 0.17238665 0.         0.\n",
      "  0.17238665 0.17238665 0.34477329 0.17238665 0.17238665 0.\n",
      "  0.         0.17238665 0.         0.         0.         0.\n",
      "  0.17238665 0.17238665 0.11003216 0.17238665 0.         0.\n",
      "  0.17238665 0.17238665 0.         0.         0.         0.\n",
      "  0.17238665 0.17238665 0.         0.         0.         0.\n",
      "  0.         0.         0.         0.         0.         0.\n",
      "  0.         0.         0.         0.         0.13591161 0.17238665\n",
      "  0.         0.         0.         0.         0.17238665 0.17238665\n",
      "  0.         0.         0.         0.         0.17238665 0.17238665\n",
      "  0.13591161 0.         0.17238665 0.34477329 0.34477329]\n",
      " [0.         0.         0.         0.         0.25277526 0.25277526\n",
      "  0.         0.         0.         0.         0.         0.25277526\n",
      "  0.25277526 0.         0.         0.         0.         0.\n",
      "  0.         0.         0.16134317 0.         0.25277526 0.\n",
      "  0.         0.         0.         0.         0.25277526 0.25277526\n",
      "  0.         0.         0.         0.         0.25277526 0.25277526\n",
      "  0.         0.         0.         0.25277526 0.         0.\n",
      "  0.         0.         0.25277526 0.25277526 0.19929092 0.\n",
      "  0.25277526 0.         0.         0.         0.         0.\n",
      "  0.         0.         0.         0.         0.         0.\n",
      "  0.19929092 0.25277526 0.         0.         0.        ]\n",
      " [0.         0.         0.         0.         0.         0.\n",
      "  0.         0.         0.         0.         0.         0.\n",
      "  0.         0.         0.         0.         0.37796447 0.37796447\n",
      "  0.         0.         0.         0.         0.         0.\n",
      "  0.         0.         0.37796447 0.37796447 0.         0.\n",
      "  0.         0.         0.         0.         0.         0.\n",
      "  0.37796447 0.37796447 0.37796447 0.         0.         0.\n",
      "  0.         0.         0.         0.         0.         0.\n",
      "  0.         0.         0.         0.         0.         0.\n",
      "  0.         0.         0.         0.         0.         0.\n",
      "  0.         0.         0.         0.         0.        ]\n",
      " [0.23307927 0.23307927 0.         0.         0.         0.\n",
      "  0.         0.         0.         0.         0.         0.\n",
      "  0.         0.         0.23307927 0.23307927 0.         0.\n",
      "  0.         0.         0.14877148 0.         0.         0.23307927\n",
      "  0.         0.         0.         0.         0.         0.\n",
      "  0.         0.         0.23307927 0.23307927 0.         0.\n",
      "  0.         0.         0.         0.         0.23307927 0.23307927\n",
      "  0.23307927 0.23307927 0.         0.         0.         0.\n",
      "  0.         0.23307927 0.23307927 0.23307927 0.         0.\n",
      "  0.23307927 0.23307927 0.23307927 0.23307927 0.         0.\n",
      "  0.         0.         0.         0.         0.        ]]\n"
     ]
    }
   ],
   "source": [
    "mycorpus = [\n",
    "    \"Indian men's cricket team will win World Cup , says Capt. Virat Kohli, World Cup is being held in England\",\n",
    "    \"We will win next Lok Sabha elections , says confident Indian PM\" ,\n",
    "    \"The nobel laurate won the hearts of the people\" ,\n",
    "    \"The movie Raazi is an exciting Indian spy thriller based upon a real story\"\n",
    "]\n",
    "\n",
    "tfidf_vectorizer = TfidfVectorizer(tokenizer=DataPrep , ngram_range=(1,2),norm='l2')\n",
    "vectorized_corpus_tfidf = tfidf_vectorizer.fit_transform(mycorpus).toarray()\n",
    "print(vectorized_corpus_tfidf)"
   ]
  },
  {
   "cell_type": "code",
   "execution_count": 219,
   "metadata": {},
   "outputs": [
    {
     "name": "stdout",
     "output_type": "stream",
     "text": [
      "{'indian': 20, 'men': 30, 'cricket': 6, 'team': 52, 'win': 60, 'world': 63, 'cup': 8, 'say': 46, 'capt': 2, 'virat': 58, 'kohli': 24, 'held': 18, 'england': 13, 'indian men': 21, 'men cricket': 31, 'cricket team': 7, 'team win': 53, 'win world': 62, 'world cup': 64, 'cup say': 10, 'say capt': 47, 'capt virat': 3, 'virat kohli': 59, 'kohli world': 25, 'cup held': 9, 'held england': 19, 'next': 34, 'lok': 28, 'sabha': 44, 'elect': 11, 'confid': 4, 'pm': 39, 'win next': 61, 'next lok': 35, 'lok sabha': 29, 'sabha elect': 45, 'elect say': 12, 'say confid': 48, 'confid indian': 5, 'indian pm': 22, 'nobel': 36, 'laurat': 26, 'heart': 16, 'peopl': 38, 'nobel laurat': 37, 'laurat heart': 27, 'heart peopl': 17, 'movi': 32, 'raazi': 40, 'excit': 14, 'spi': 49, 'thriller': 54, 'base': 0, 'upon': 56, 'real': 42, 'stori': 51, 'movi raazi': 33, 'raazi excit': 41, 'excit indian': 15, 'indian spi': 23, 'spi thriller': 50, 'thriller base': 55, 'base upon': 1, 'upon real': 57, 'real stori': 43}\n"
     ]
    }
   ],
   "source": [
    "print(tfidf_vectorizer.vocabulary_)"
   ]
  },
  {
   "cell_type": "code",
   "execution_count": 220,
   "metadata": {},
   "outputs": [
    {
     "name": "stdout",
     "output_type": "stream",
     "text": [
      "(4, 65)\n"
     ]
    }
   ],
   "source": [
    "print(vectorized_corpus_tfidf.shape)"
   ]
  },
  {
   "cell_type": "code",
   "execution_count": null,
   "metadata": {},
   "outputs": [],
   "source": []
  },
  {
   "cell_type": "code",
   "execution_count": null,
   "metadata": {},
   "outputs": [],
   "source": []
  },
  {
   "cell_type": "code",
   "execution_count": null,
   "metadata": {},
   "outputs": [],
   "source": []
  },
  {
   "cell_type": "code",
   "execution_count": null,
   "metadata": {},
   "outputs": [],
   "source": []
  },
  {
   "cell_type": "code",
   "execution_count": null,
   "metadata": {},
   "outputs": [],
   "source": []
  },
  {
   "cell_type": "code",
   "execution_count": null,
   "metadata": {},
   "outputs": [],
   "source": []
  },
  {
   "cell_type": "code",
   "execution_count": null,
   "metadata": {},
   "outputs": [],
   "source": []
  },
  {
   "cell_type": "code",
   "execution_count": null,
   "metadata": {},
   "outputs": [],
   "source": []
  }
 ],
 "metadata": {
  "kernelspec": {
   "display_name": "Python 3",
   "language": "python",
   "name": "python3"
  },
  "language_info": {
   "codemirror_mode": {
    "name": "ipython",
    "version": 3
   },
   "file_extension": ".py",
   "mimetype": "text/x-python",
   "name": "python",
   "nbconvert_exporter": "python",
   "pygments_lexer": "ipython3",
   "version": "3.7.0"
  }
 },
 "nbformat": 4,
 "nbformat_minor": 2
}
